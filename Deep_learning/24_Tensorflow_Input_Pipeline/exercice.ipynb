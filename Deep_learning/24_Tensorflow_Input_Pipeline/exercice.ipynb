{
 "cells": [
  {
   "cell_type": "code",
   "execution_count": 1,
   "id": "8b9c2182-be49-46cf-bdf9-3ec0695f9167",
   "metadata": {},
   "outputs": [],
   "source": [
    "import tensorflow as tf"
   ]
  },
  {
   "cell_type": "code",
   "execution_count": 2,
   "id": "97e90942-5c96-4792-8fad-1c6238609dfd",
   "metadata": {},
   "outputs": [],
   "source": [
    "images_ds = tf.data.Dataset.list_files('reviews/*/*', shuffle=False)"
   ]
  },
  {
   "cell_type": "code",
   "execution_count": 3,
   "id": "a573d6e5-abd8-4011-a5a0-d97035197244",
   "metadata": {},
   "outputs": [
    {
     "data": {
      "text/plain": [
       "6"
      ]
     },
     "execution_count": 3,
     "metadata": {},
     "output_type": "execute_result"
    }
   ],
   "source": [
    "image_count = len(images_ds)\n",
    "image_count"
   ]
  },
  {
   "cell_type": "code",
   "execution_count": 10,
   "id": "75c700fb-bfcb-4e64-98ca-472e413d15d6",
   "metadata": {},
   "outputs": [
    {
     "name": "stdout",
     "output_type": "stream",
     "text": [
      "b'reviews\\\\positive\\\\pos_3.txt'\n",
      "b'reviews\\\\negative\\\\neg_3.txt'\n",
      "b'reviews\\\\positive\\\\pos_1.txt'\n"
     ]
    }
   ],
   "source": [
    "reviews_ds = images_ds.shuffle(50)\n",
    "for file in images_ds.take(3):\n",
    "    print(file.numpy())"
   ]
  },
  {
   "cell_type": "code",
   "execution_count": 7,
   "id": "3390d52a-9218-4266-be7e-6a707f97f06c",
   "metadata": {},
   "outputs": [],
   "source": [
    "def get_label(file_path):\n",
    "    import os\n",
    "    parts = tf.strings.split(file_path, os.path.sep)\n",
    "    return parts[-2]"
   ]
  },
  {
   "cell_type": "code",
   "execution_count": 8,
   "id": "f131575b-cb57-4221-adab-10d679ef1282",
   "metadata": {},
   "outputs": [],
   "source": [
    "import os\n",
    "def extract_review_and_label(file_path):\n",
    "    return tf.io.read_file(file_path), tf.strings.split(file_path, os.path.sep)[-2]"
   ]
  },
  {
   "cell_type": "code",
   "execution_count": 11,
   "id": "abb2b3af-3a0a-4c26-a30e-a4056d3a5b2b",
   "metadata": {},
   "outputs": [
    {
     "name": "stdout",
     "output_type": "stream",
     "text": [
      "Review:  b'A wonderful little production. <br /><br />The fil'\n",
      "Label:  b'positive'\n",
      "Review:  b\"Basically there's a family where a little boy (Jak\"\n",
      "Label:  b'negative'\n",
      "Review:  b''\n",
      "Label:  b'positive'\n",
      "Review:  b'This show was an amazing, fresh & innovative idea '\n",
      "Label:  b'negative'\n",
      "Review:  b'One of the other reviewers has mentioned that afte'\n",
      "Label:  b'positive'\n",
      "Review:  b''\n",
      "Label:  b'negative'\n"
     ]
    }
   ],
   "source": [
    "reviews_ds_1 = reviews_ds.map(extract_review_and_label)\n",
    "for review, label in reviews_ds_1:\n",
    "    print(\"Review: \",review.numpy()[:50])\n",
    "    print(\"Label: \",label.numpy())"
   ]
  },
  {
   "cell_type": "code",
   "execution_count": 12,
   "id": "b196b773-54c9-4cab-abfd-ee3fb0cb7b37",
   "metadata": {},
   "outputs": [
    {
     "name": "stdout",
     "output_type": "stream",
     "text": [
      "Review:  b\"Basically there's a family where a little boy (Jak\"\n",
      "Label:  b'negative'\n",
      "Review:  b'One of the other reviewers has mentioned that afte'\n",
      "Label:  b'positive'\n",
      "Review:  b'A wonderful little production. <br /><br />The fil'\n",
      "Label:  b'positive'\n",
      "Review:  b'This show was an amazing, fresh & innovative idea '\n",
      "Label:  b'negative'\n"
     ]
    }
   ],
   "source": [
    "reviews_ds_2 = reviews_ds_1.filter(lambda review, label: review!=\"\")\n",
    "for review, label in reviews_ds_2.as_numpy_iterator():\n",
    "    print(\"Review: \",review[:50])\n",
    "    print(\"Label: \",label)"
   ]
  },
  {
   "cell_type": "code",
   "execution_count": 17,
   "id": "75a1e08b-428e-45d6-9a56-3c0ad9d6f02a",
   "metadata": {},
   "outputs": [
    {
     "name": "stdout",
     "output_type": "stream",
     "text": [
      "Review: b'A wonderful little production. <br /><br />The fil'\n",
      "Label: b'positive'\n",
      "Review: b\"Basically there's a family where a little boy (Jak\"\n",
      "Label: b'negative'\n",
      "Review: b'One of the other reviewers has mentioned that afte'\n",
      "Label: b'positive'\n",
      "Review: b'This show was an amazing, fresh & innovative idea '\n",
      "Label: b'negative'\n"
     ]
    }
   ],
   "source": [
    "final_ds = reviews_ds.map(extract_review_and_label).filter(lambda review, label: review!=\"\").shuffle(3)\n",
    "for review, label in final_ds.as_numpy_iterator():\n",
    "    print(\"Review:\",review[:50])\n",
    "    print(\"Label:\",label)"
   ]
  },
  {
   "cell_type": "code",
   "execution_count": null,
   "id": "1dc9ab73-ae02-470d-8b26-10a2b9101926",
   "metadata": {},
   "outputs": [],
   "source": []
  }
 ],
 "metadata": {
  "kernelspec": {
   "display_name": "Python 3 (ipykernel)",
   "language": "python",
   "name": "python3"
  },
  "language_info": {
   "codemirror_mode": {
    "name": "ipython",
    "version": 3
   },
   "file_extension": ".py",
   "mimetype": "text/x-python",
   "name": "python",
   "nbconvert_exporter": "python",
   "pygments_lexer": "ipython3",
   "version": "3.12.4"
  }
 },
 "nbformat": 4,
 "nbformat_minor": 5
}
