{
 "cells": [
  {
   "cell_type": "code",
   "execution_count": 1,
   "id": "9471c3de-6ee3-47d1-8c6e-8dd3a94f3a8b",
   "metadata": {},
   "outputs": [],
   "source": [
    "import tensorflow as tf"
   ]
  },
  {
   "cell_type": "code",
   "execution_count": 2,
   "id": "fa5f90aa-d397-4a9e-bd61-ace810fc19ae",
   "metadata": {},
   "outputs": [
    {
     "data": {
      "text/plain": [
       "<_TensorSliceDataset element_spec=TensorSpec(shape=(), dtype=tf.int32, name=None)>"
      ]
     },
     "execution_count": 2,
     "metadata": {},
     "output_type": "execute_result"
    }
   ],
   "source": [
    "\n",
    "daily_sales_numbers = [21, 22, -108, 31, -1, 32, 34,31]\n",
    "\n",
    "tf_dataset = tf.data.Dataset.from_tensor_slices(daily_sales_numbers)\n",
    "tf_dataset"
   ]
  },
  {
   "cell_type": "code",
   "execution_count": 3,
   "id": "7748f021-741e-4535-a89b-6dacffa78e7e",
   "metadata": {},
   "outputs": [
    {
     "name": "stdout",
     "output_type": "stream",
     "text": [
      "21\n",
      "22\n",
      "-108\n",
      "31\n",
      "-1\n",
      "32\n",
      "34\n",
      "31\n"
     ]
    }
   ],
   "source": [
    "for sales in tf_dataset:\n",
    "    print(sales.numpy())"
   ]
  },
  {
   "cell_type": "code",
   "execution_count": 4,
   "id": "743e4d06-b57d-485b-bf82-71f9db6b1474",
   "metadata": {},
   "outputs": [
    {
     "name": "stdout",
     "output_type": "stream",
     "text": [
      "21\n",
      "22\n",
      "-108\n",
      "31\n",
      "-1\n",
      "32\n",
      "34\n",
      "31\n"
     ]
    }
   ],
   "source": [
    "for sales in tf_dataset.as_numpy_iterator():\n",
    "    print(sales)"
   ]
  },
  {
   "cell_type": "code",
   "execution_count": 5,
   "id": "d6c7c485-3430-43e1-bd7c-676cb0a98935",
   "metadata": {},
   "outputs": [
    {
     "name": "stdout",
     "output_type": "stream",
     "text": [
      "21\n",
      "22\n",
      "-108\n"
     ]
    }
   ],
   "source": [
    "for sales in tf_dataset.take(3):\n",
    "    print(sales.numpy())"
   ]
  },
  {
   "cell_type": "code",
   "execution_count": 6,
   "id": "7496d791-01e7-4a9d-908b-dc16338c2c82",
   "metadata": {},
   "outputs": [
    {
     "name": "stdout",
     "output_type": "stream",
     "text": [
      "21\n",
      "22\n",
      "31\n",
      "32\n",
      "34\n",
      "31\n"
     ]
    }
   ],
   "source": [
    "tf_dataset = tf_dataset.filter(lambda x: x>0)\n",
    "for sales in tf_dataset.as_numpy_iterator():\n",
    "    print(sales)"
   ]
  },
  {
   "cell_type": "code",
   "execution_count": 7,
   "id": "4d8c1103-f6ba-4c8f-9a58-0d0bee7afa14",
   "metadata": {},
   "outputs": [
    {
     "name": "stdout",
     "output_type": "stream",
     "text": [
      "1512\n",
      "1584\n",
      "2232\n",
      "2304\n",
      "2448\n",
      "2232\n"
     ]
    }
   ],
   "source": [
    "tf_dataset = tf_dataset.map(lambda x: x*72)\n",
    "for sales in tf_dataset.as_numpy_iterator():\n",
    "    print(sales)\n",
    "    "
   ]
  },
  {
   "cell_type": "code",
   "execution_count": 9,
   "id": "3fda5f3e-4a00-4e80-b681-b110116a54b1",
   "metadata": {},
   "outputs": [
    {
     "name": "stdout",
     "output_type": "stream",
     "text": [
      "1512\n",
      "2232\n",
      "1584\n",
      "2448\n",
      "2304\n",
      "2232\n"
     ]
    }
   ],
   "source": [
    "tf_dataset = tf_dataset.shuffle(3)\n",
    "for sales in tf_dataset.as_numpy_iterator():\n",
    "    print(sales)"
   ]
  },
  {
   "cell_type": "code",
   "execution_count": 8,
   "id": "32f8f73e-63e6-4f15-84eb-2e4948a5c782",
   "metadata": {},
   "outputs": [
    {
     "name": "stdout",
     "output_type": "stream",
     "text": [
      "[1512 1584]\n",
      "[2232 2304]\n",
      "[2448 2232]\n"
     ]
    }
   ],
   "source": [
    "for sales_batch in tf_dataset.batch(2):\n",
    "    print(sales_batch.numpy())"
   ]
  },
  {
   "cell_type": "code",
   "execution_count": 10,
   "id": "e7d09625-3642-496f-86e5-61443110a422",
   "metadata": {},
   "outputs": [
    {
     "name": "stdout",
     "output_type": "stream",
     "text": [
      "[1512 1584]\n",
      "[2232 2448]\n",
      "[2304 2232]\n"
     ]
    }
   ],
   "source": [
    "tf_dataset = tf.data.Dataset.from_tensor_slices(daily_sales_numbers)\n",
    "\n",
    "tf_dataset = tf_dataset.filter(lambda x: x>0).map(lambda y: y*72).shuffle(2).batch(2)\n",
    "for sales in tf_dataset.as_numpy_iterator():\n",
    "    print(sales)"
   ]
  },
  {
   "cell_type": "code",
   "execution_count": 20,
   "id": "a049c39b-21e5-4a27-8514-e065dd808e88",
   "metadata": {},
   "outputs": [],
   "source": [
    "images_ds = tf.data.Dataset.list_files('img/*/*', shuffle=False)"
   ]
  },
  {
   "cell_type": "code",
   "execution_count": 21,
   "id": "0b22e02b-d09d-41b6-8f59-e992fd5db835",
   "metadata": {},
   "outputs": [
    {
     "data": {
      "text/plain": [
       "62"
      ]
     },
     "execution_count": 21,
     "metadata": {},
     "output_type": "execute_result"
    }
   ],
   "source": [
    "image_count = len(images_ds)\n",
    "image_count"
   ]
  },
  {
   "cell_type": "code",
   "execution_count": 25,
   "id": "e3d10cfc-95d9-4e1e-b32c-ac130ab1f8fb",
   "metadata": {},
   "outputs": [
    {
     "name": "stdout",
     "output_type": "stream",
     "text": [
      "b'img\\\\apples\\\\0a5ae820-7051-4495-bcca-61bf02897472.jpg'\n",
      "b'img\\\\apples\\\\1613180842.jpg'\n"
     ]
    }
   ],
   "source": [
    "for file in images_ds.take(2):\n",
    "    print(file.numpy())"
   ]
  },
  {
   "cell_type": "code",
   "execution_count": 27,
   "id": "dc6b837f-b762-42f9-848b-4a679af974ef",
   "metadata": {},
   "outputs": [
    {
     "name": "stdout",
     "output_type": "stream",
     "text": [
      "b'img\\\\banana\\\\BANANANA.jpg'\n",
      "b'img\\\\apples\\\\Apples-Galore-What-to-Do-scaled.jpg'\n",
      "b'img\\\\banana\\\\banana-fruit-2d-illustration-png.png'\n"
     ]
    }
   ],
   "source": [
    "images_ds = images_ds.shuffle(200)\n",
    "for file in images_ds.take(3):\n",
    "    print(file.numpy())"
   ]
  },
  {
   "cell_type": "code",
   "execution_count": 28,
   "id": "9014f6e8-9244-4fc7-ac5d-719f5a1ae4d3",
   "metadata": {},
   "outputs": [],
   "source": [
    "class_names = [\"cat\",\"dog\"]"
   ]
  },
  {
   "cell_type": "code",
   "execution_count": 58,
   "id": "d342ab60-e973-4077-b1fb-bf45091bf18f",
   "metadata": {},
   "outputs": [],
   "source": [
    "train_size = int(image_count*0.8)\n",
    "train_ds = images_ds.take(train_size)\n",
    "test_ds = images_ds.skip(train_size)"
   ]
  },
  {
   "cell_type": "code",
   "execution_count": 30,
   "id": "7924d477-3255-42af-a3b5-ec0c14cce8b9",
   "metadata": {},
   "outputs": [
    {
     "data": {
      "text/plain": [
       "49"
      ]
     },
     "execution_count": 30,
     "metadata": {},
     "output_type": "execute_result"
    }
   ],
   "source": [
    "len(train_ds)"
   ]
  },
  {
   "cell_type": "code",
   "execution_count": 49,
   "id": "3e829dcc-9109-457e-9664-6b95074c761d",
   "metadata": {},
   "outputs": [],
   "source": [
    "def get_label(file_path):\n",
    "    import os\n",
    "    parts = tf.strings.split(file_path, os.path.sep)\n",
    "    return parts[-2]"
   ]
  },
  {
   "cell_type": "code",
   "execution_count": 50,
   "id": "d3f01f20-1027-43b6-bc4d-4691ae4ffaef",
   "metadata": {},
   "outputs": [
    {
     "data": {
      "text/plain": [
       "<tf.Tensor: shape=(), dtype=string, numpy=b'dog'>"
      ]
     },
     "execution_count": 50,
     "metadata": {},
     "output_type": "execute_result"
    }
   ],
   "source": [
    "get_label(\"images\\\\dog\\\\20 Reasons Why Cats Make the Best Pets....jpg\")"
   ]
  },
  {
   "cell_type": "code",
   "execution_count": 51,
   "id": "1665f977-b59c-45bf-bb9a-8f25b2c5bc39",
   "metadata": {},
   "outputs": [],
   "source": [
    "def process_image(file_path):\n",
    "    label = get_label(file_path)\n",
    "    img = tf.io.read_file(file_path) # load the raw data from the file as a string\n",
    "    img = tf.image.decode_jpeg(img)\n",
    "    img = tf.image.resize(img, [128, 128])\n",
    "    return img, label"
   ]
  },
  {
   "cell_type": "code",
   "execution_count": 57,
   "id": "bc76927f-d56c-4c55-b1e2-186e4a45a9c3",
   "metadata": {},
   "outputs": [
    {
     "data": {
      "text/plain": [
       "array([[[255.      , 255.      , 255.      ],\n",
       "        [255.      , 255.      , 255.      ],\n",
       "        [255.      , 255.      , 255.      ],\n",
       "        [255.      , 255.      , 255.      ],\n",
       "        [255.      , 255.      , 255.      ],\n",
       "        [255.      , 255.      , 255.      ],\n",
       "        [255.      , 255.      , 255.      ],\n",
       "        [255.      , 255.      , 255.      ],\n",
       "        [255.      , 255.      , 255.      ],\n",
       "        [255.      , 255.      , 255.      ],\n",
       "        [255.      , 255.      , 255.      ],\n",
       "        [255.      , 255.      , 255.      ],\n",
       "        [255.      , 255.      , 255.      ],\n",
       "        [255.      , 255.      , 255.      ],\n",
       "        [255.      , 255.      , 255.      ],\n",
       "        [255.      , 255.      , 255.      ],\n",
       "        [255.      , 255.      , 255.      ],\n",
       "        [255.      , 255.      , 255.      ],\n",
       "        [255.      , 255.      , 255.      ],\n",
       "        [255.      , 255.      , 255.      ],\n",
       "        [255.      , 255.      , 255.      ],\n",
       "        [255.      , 255.      , 255.      ],\n",
       "        [255.      , 255.      , 255.      ],\n",
       "        [255.      , 255.      , 255.      ],\n",
       "        [255.      , 255.      , 255.      ],\n",
       "        [255.      , 255.      , 255.      ],\n",
       "        [255.      , 255.      , 255.      ],\n",
       "        [255.      , 255.      , 255.      ],\n",
       "        [255.      , 255.      , 255.      ],\n",
       "        [255.      , 255.      , 255.      ],\n",
       "        [255.      , 255.      , 255.      ],\n",
       "        [255.      , 255.      , 255.      ],\n",
       "        [255.      , 255.      , 255.      ],\n",
       "        [255.      , 255.      , 255.      ],\n",
       "        [255.      , 255.      , 255.      ],\n",
       "        [255.      , 255.      , 255.      ],\n",
       "        [255.      , 255.      , 255.      ],\n",
       "        [255.      , 255.      , 255.      ],\n",
       "        [255.      , 255.      , 255.      ],\n",
       "        [255.      , 255.      , 255.      ],\n",
       "        [255.      , 255.      , 255.      ],\n",
       "        [255.      , 255.      , 255.      ],\n",
       "        [255.      , 255.      , 255.      ],\n",
       "        [255.      , 255.      , 255.      ],\n",
       "        [255.      , 255.      , 255.      ],\n",
       "        [255.      , 255.      , 255.      ],\n",
       "        [255.      , 255.      , 255.      ],\n",
       "        [255.      , 255.      , 255.      ],\n",
       "        [255.      , 255.      , 255.      ],\n",
       "        [255.      , 255.      , 255.      ],\n",
       "        [255.      , 255.      , 255.      ],\n",
       "        [255.      , 255.      , 255.      ],\n",
       "        [255.      , 255.      , 255.      ],\n",
       "        [255.      , 255.      , 255.      ],\n",
       "        [255.      , 255.      , 255.      ],\n",
       "        [255.      , 255.      , 255.      ],\n",
       "        [255.      , 255.      , 255.      ],\n",
       "        [255.      , 255.      , 255.      ],\n",
       "        [255.      , 255.      , 255.      ],\n",
       "        [253.72705 , 254.98535 , 254.75098 ],\n",
       "        [133.00806 ,  96.38306 ,  65.72681 ],\n",
       "        [254.81909 , 251.85986 , 244.19116 ],\n",
       "        [255.      , 255.      , 255.      ],\n",
       "        [255.      , 255.      , 255.      ],\n",
       "        [255.      , 255.      , 255.      ],\n",
       "        [255.      , 255.      , 255.      ],\n",
       "        [255.      , 255.      , 255.      ],\n",
       "        [255.      , 255.      , 255.      ],\n",
       "        [255.      , 255.      , 255.      ],\n",
       "        [255.      , 255.      , 255.      ],\n",
       "        [255.      , 255.      , 255.      ],\n",
       "        [255.      , 255.      , 255.      ],\n",
       "        [255.      , 255.      , 255.      ],\n",
       "        [255.      , 255.      , 255.      ],\n",
       "        [255.      , 255.      , 255.      ],\n",
       "        [255.      , 255.      , 255.      ],\n",
       "        [255.      , 255.      , 255.      ],\n",
       "        [255.      , 255.      , 255.      ],\n",
       "        [255.      , 255.      , 255.      ],\n",
       "        [255.      , 255.      , 255.      ],\n",
       "        [255.      , 255.      , 255.      ],\n",
       "        [255.      , 255.      , 255.      ],\n",
       "        [255.      , 255.      , 255.      ],\n",
       "        [255.      , 255.      , 255.      ],\n",
       "        [255.      , 255.      , 255.      ],\n",
       "        [255.      , 255.      , 255.      ],\n",
       "        [255.      , 255.      , 255.      ],\n",
       "        [255.      , 255.      , 255.      ],\n",
       "        [255.      , 255.      , 255.      ],\n",
       "        [255.      , 255.      , 255.      ],\n",
       "        [255.      , 255.      , 255.      ],\n",
       "        [255.      , 255.      , 255.      ],\n",
       "        [255.      , 255.      , 255.      ],\n",
       "        [255.      , 255.      , 255.      ],\n",
       "        [255.      , 255.      , 255.      ],\n",
       "        [255.      , 255.      , 255.      ],\n",
       "        [255.      , 255.      , 255.      ],\n",
       "        [255.      , 255.      , 255.      ],\n",
       "        [255.      , 255.      , 255.      ],\n",
       "        [255.      , 255.      , 255.      ],\n",
       "        [255.      , 255.      , 255.      ],\n",
       "        [255.      , 255.      , 255.      ],\n",
       "        [255.      , 255.      , 255.      ],\n",
       "        [255.      , 255.      , 255.      ],\n",
       "        [255.      , 255.      , 255.      ],\n",
       "        [255.      , 255.      , 255.      ],\n",
       "        [255.      , 255.      , 255.      ],\n",
       "        [255.      , 255.      , 255.      ],\n",
       "        [255.      , 255.      , 255.      ],\n",
       "        [255.      , 255.      , 255.      ],\n",
       "        [255.      , 255.      , 255.      ],\n",
       "        [255.      , 255.      , 255.      ],\n",
       "        [255.      , 255.      , 255.      ],\n",
       "        [255.      , 255.      , 255.      ],\n",
       "        [255.      , 255.      , 255.      ],\n",
       "        [255.      , 255.      , 255.      ],\n",
       "        [255.      , 255.      , 255.      ],\n",
       "        [255.      , 255.      , 255.      ],\n",
       "        [255.      , 255.      , 255.      ],\n",
       "        [255.      , 255.      , 255.      ],\n",
       "        [255.      , 255.      , 255.      ],\n",
       "        [255.      , 255.      , 255.      ],\n",
       "        [255.      , 255.      , 255.      ],\n",
       "        [255.      , 255.      , 255.      ],\n",
       "        [255.      , 255.      , 255.      ],\n",
       "        [255.      , 255.      , 255.      ],\n",
       "        [255.      , 255.      , 255.      ],\n",
       "        [255.      , 255.      , 255.      ]],\n",
       "\n",
       "       [[255.      , 255.      , 255.      ],\n",
       "        [255.      , 255.      , 255.      ],\n",
       "        [255.      , 255.      , 255.      ],\n",
       "        [255.      , 255.      , 255.      ],\n",
       "        [255.      , 255.      , 255.      ],\n",
       "        [255.      , 255.      , 255.      ],\n",
       "        [255.      , 255.      , 255.      ],\n",
       "        [255.      , 255.      , 255.      ],\n",
       "        [255.      , 255.      , 255.      ],\n",
       "        [255.      , 255.      , 255.      ],\n",
       "        [255.      , 255.      , 255.      ],\n",
       "        [255.      , 255.      , 255.      ],\n",
       "        [255.      , 255.      , 255.      ],\n",
       "        [255.      , 255.      , 255.      ],\n",
       "        [255.      , 255.      , 255.      ],\n",
       "        [255.      , 255.      , 255.      ],\n",
       "        [255.      , 255.      , 255.      ],\n",
       "        [255.      , 255.      , 255.      ],\n",
       "        [255.      , 255.      , 255.      ],\n",
       "        [255.      , 255.      , 255.      ],\n",
       "        [255.      , 255.      , 255.      ],\n",
       "        [255.      , 255.      , 255.      ],\n",
       "        [255.      , 255.      , 255.      ],\n",
       "        [255.      , 255.      , 255.      ],\n",
       "        [255.      , 255.      , 255.      ],\n",
       "        [255.      , 255.      , 255.      ],\n",
       "        [255.      , 255.      , 255.      ],\n",
       "        [255.      , 255.      , 255.      ],\n",
       "        [255.      , 255.      , 255.      ],\n",
       "        [255.      , 255.      , 255.      ],\n",
       "        [255.      , 255.      , 255.      ],\n",
       "        [255.      , 255.      , 255.      ],\n",
       "        [255.      , 255.      , 255.      ],\n",
       "        [255.      , 255.      , 255.      ],\n",
       "        [255.      , 255.      , 255.      ],\n",
       "        [255.      , 255.      , 255.      ],\n",
       "        [255.      , 255.      , 255.      ],\n",
       "        [255.      , 255.      , 255.      ],\n",
       "        [255.      , 255.      , 255.      ],\n",
       "        [255.      , 255.      , 255.      ],\n",
       "        [255.      , 255.      , 255.      ],\n",
       "        [255.      , 255.      , 255.      ],\n",
       "        [255.      , 255.      , 255.      ],\n",
       "        [255.      , 255.      , 255.      ],\n",
       "        [255.      , 255.      , 255.      ],\n",
       "        [255.      , 255.      , 255.      ],\n",
       "        [255.      , 255.      , 255.      ],\n",
       "        [255.      , 255.      , 255.      ],\n",
       "        [255.      , 255.      , 255.      ],\n",
       "        [255.      , 255.      , 255.      ],\n",
       "        [255.      , 255.      , 255.      ],\n",
       "        [255.      , 255.      , 255.      ],\n",
       "        [255.      , 255.      , 255.      ],\n",
       "        [255.      , 255.      , 255.      ],\n",
       "        [255.      , 255.      , 255.      ],\n",
       "        [255.      , 255.      , 255.      ],\n",
       "        [255.      , 255.      , 255.      ],\n",
       "        [255.      , 255.      , 255.      ],\n",
       "        [255.      , 255.      , 255.      ],\n",
       "        [253.22339 , 252.31885 , 251.97974 ],\n",
       "        [132.55542 ,  82.5     ,  40.563965],\n",
       "        [148.39136 , 127.59448 , 104.416504],\n",
       "        [255.      , 255.      , 255.      ],\n",
       "        [255.      , 255.      , 255.      ],\n",
       "        [255.      , 255.      , 255.      ],\n",
       "        [255.      , 255.      , 255.      ],\n",
       "        [255.      , 255.      , 255.      ],\n",
       "        [255.      , 255.      , 255.      ],\n",
       "        [255.      , 255.      , 255.      ],\n",
       "        [255.      , 255.      , 255.      ],\n",
       "        [255.      , 255.      , 255.      ],\n",
       "        [255.      , 255.      , 255.      ],\n",
       "        [255.      , 255.      , 255.      ],\n",
       "        [255.      , 255.      , 255.      ],\n",
       "        [255.      , 255.      , 255.      ],\n",
       "        [255.      , 255.      , 255.      ],\n",
       "        [255.      , 255.      , 255.      ],\n",
       "        [255.      , 255.      , 255.      ],\n",
       "        [255.      , 255.      , 255.      ],\n",
       "        [255.      , 255.      , 255.      ],\n",
       "        [255.      , 255.      , 255.      ],\n",
       "        [255.      , 255.      , 255.      ],\n",
       "        [255.      , 255.      , 255.      ],\n",
       "        [255.      , 255.      , 255.      ],\n",
       "        [255.      , 255.      , 255.      ],\n",
       "        [255.      , 255.      , 255.      ],\n",
       "        [255.      , 255.      , 255.      ],\n",
       "        [255.      , 255.      , 255.      ],\n",
       "        [255.      , 255.      , 255.      ],\n",
       "        [255.      , 255.      , 255.      ],\n",
       "        [255.      , 255.      , 255.      ],\n",
       "        [255.      , 255.      , 255.      ],\n",
       "        [255.      , 255.      , 255.      ],\n",
       "        [255.      , 255.      , 255.      ],\n",
       "        [255.      , 255.      , 255.      ],\n",
       "        [255.      , 255.      , 255.      ],\n",
       "        [255.      , 255.      , 255.      ],\n",
       "        [255.      , 255.      , 255.      ],\n",
       "        [255.      , 255.      , 255.      ],\n",
       "        [255.      , 255.      , 255.      ],\n",
       "        [255.      , 255.      , 255.      ],\n",
       "        [255.      , 255.      , 255.      ],\n",
       "        [255.      , 255.      , 255.      ],\n",
       "        [255.      , 255.      , 255.      ],\n",
       "        [255.      , 255.      , 255.      ],\n",
       "        [255.      , 255.      , 255.      ],\n",
       "        [255.      , 255.      , 255.      ],\n",
       "        [255.      , 255.      , 255.      ],\n",
       "        [255.      , 255.      , 255.      ],\n",
       "        [255.      , 255.      , 255.      ],\n",
       "        [255.      , 255.      , 255.      ],\n",
       "        [255.      , 255.      , 255.      ],\n",
       "        [255.      , 255.      , 255.      ],\n",
       "        [255.      , 255.      , 255.      ],\n",
       "        [255.      , 255.      , 255.      ],\n",
       "        [255.      , 255.      , 255.      ],\n",
       "        [255.      , 255.      , 255.      ],\n",
       "        [255.      , 255.      , 255.      ],\n",
       "        [255.      , 255.      , 255.      ],\n",
       "        [255.      , 255.      , 255.      ],\n",
       "        [255.      , 255.      , 255.      ],\n",
       "        [255.      , 255.      , 255.      ],\n",
       "        [255.      , 255.      , 255.      ],\n",
       "        [255.      , 255.      , 255.      ],\n",
       "        [255.      , 255.      , 255.      ],\n",
       "        [255.      , 255.      , 255.      ],\n",
       "        [255.      , 255.      , 255.      ],\n",
       "        [255.      , 255.      , 255.      ]]], dtype=float32)"
      ]
     },
     "execution_count": 57,
     "metadata": {},
     "output_type": "execute_result"
    }
   ],
   "source": [
    "img, label = process_image(\"img\\\\apples\\\\0a5ae820-7051-4495-bcca-61bf02897472.jpg\")\n",
    "img.numpy()[:2]"
   ]
  },
  {
   "cell_type": "code",
   "execution_count": 59,
   "id": "1e9e7837-353a-49a5-bced-b7afce2cb3d3",
   "metadata": {},
   "outputs": [],
   "source": [
    "train_ds = train_ds.map(process_image)\n",
    "test_ds = test_ds.map(process_image)"
   ]
  },
  {
   "cell_type": "code",
   "execution_count": 60,
   "id": "7d84d568-3587-49c4-ac2a-66966cb8c146",
   "metadata": {},
   "outputs": [
    {
     "name": "stdout",
     "output_type": "stream",
     "text": [
      "**** tf.Tensor(\n",
      "[[[124.703125 131.04297   95.73047 ]\n",
      "  [160.875    177.0625   112.70703 ]\n",
      "  [146.07422  169.07422   98.69922 ]\n",
      "  ...\n",
      "  [161.17578  177.6875   167.17578 ]\n",
      "  [107.58203  142.01953  103.70703 ]\n",
      "  [ 90.375    139.1875    49.429688]]\n",
      "\n",
      " [[ 97.03906   95.20703   75.78906 ]\n",
      "  [148.0664   158.9961    94.6875  ]\n",
      "  [129.125    141.46484   81.5625  ]\n",
      "  ...\n",
      "  [109.6875   133.125    107.125   ]\n",
      "  [ 95.125    125.875     89.37891 ]\n",
      "  [ 91.48047  132.60156   67.29297 ]]\n",
      "\n",
      " [[101.13672   99.13672   76.11328 ]\n",
      "  [149.375    150.96484  105.125   ]\n",
      "  [139.8086   145.8125   107.50391 ]\n",
      "  ...\n",
      "  [ 97.9375   115.9375    89.9375  ]\n",
      "  [100.96484  116.91016   83.3125  ]\n",
      "  [102.47266  132.44922   82.64844 ]]\n",
      "\n",
      " ...\n",
      "\n",
      " [[ 79.17578   81.17578   67.17578 ]\n",
      "  [ 80.9375    95.0625    76.5     ]\n",
      "  [ 86.9375   103.9375    85.9375  ]\n",
      "  ...\n",
      "  [149.875    173.875    125.875   ]\n",
      "  [136.34766  157.47266  108.47266 ]\n",
      "  [125.3125   141.3125    94.3125  ]]\n",
      "\n",
      " [[ 74.        75.        61.      ]\n",
      "  [ 80.125     87.125     71.125   ]\n",
      "  [ 82.97266  101.97266   82.97266 ]\n",
      "  ...\n",
      "  [160.1875   188.3125   144.67969 ]\n",
      "  [154.4336   175.9961   131.3086  ]\n",
      "  [127.25     148.8125   104.125   ]]\n",
      "\n",
      " [[ 72.        73.        59.      ]\n",
      "  [ 70.10547   77.10547   61.10547 ]\n",
      "  [ 73.73828   92.73828   73.73828 ]\n",
      "  ...\n",
      "  [197.4375   216.67578  193.9375  ]\n",
      "  [192.1875   210.29297  184.79297 ]\n",
      "  [172.8125   190.96484  164.96484 ]]], shape=(128, 128, 3), dtype=float32)\n",
      "**** tf.Tensor(b'banana', shape=(), dtype=string)\n"
     ]
    }
   ],
   "source": [
    "for image, label in train_ds.take(1):\n",
    "    print(\"****\",image)\n",
    "    print(\"****\",label)"
   ]
  },
  {
   "cell_type": "code",
   "execution_count": 61,
   "id": "b923be8b-dadb-41b2-9e6f-931c04d397b7",
   "metadata": {},
   "outputs": [],
   "source": [
    "def scale(image, label):\n",
    "    return image/255, label"
   ]
  },
  {
   "cell_type": "code",
   "execution_count": 62,
   "id": "9a14753c-de63-48f6-aab3-3e7021f0d861",
   "metadata": {},
   "outputs": [],
   "source": [
    "train_ds = train_ds.map(scale)"
   ]
  },
  {
   "cell_type": "code",
   "execution_count": 63,
   "id": "1e80f778-0b93-4f93-bbc8-66576e3ff5a4",
   "metadata": {},
   "outputs": [
    {
     "name": "stdout",
     "output_type": "stream",
     "text": [
      "****Image:  [0. 0. 0. 0.]\n",
      "****Label:  b'banana'\n",
      "****Image:  [1. 1. 1.]\n",
      "****Label:  b'banana'\n",
      "****Image:  [0. 0. 0. 0.]\n",
      "****Label:  b'banana'\n",
      "****Image:  [0.5223652  0.5890319  0.69099265]\n",
      "****Label:  b'banana'\n",
      "****Image:  [0.39215687 0.40392157 0.4627451 ]\n",
      "****Label:  b'apples'\n"
     ]
    }
   ],
   "source": [
    "for image, label in train_ds.take(5):\n",
    "    print(\"****Image: \",image.numpy()[0][0])\n",
    "    print(\"****Label: \",label.numpy())"
   ]
  },
  {
   "cell_type": "code",
   "execution_count": null,
   "id": "0ef7e937-79e9-4f47-b858-5abfb3f885a3",
   "metadata": {},
   "outputs": [],
   "source": []
  }
 ],
 "metadata": {
  "kernelspec": {
   "display_name": "Python 3 (ipykernel)",
   "language": "python",
   "name": "python3"
  },
  "language_info": {
   "codemirror_mode": {
    "name": "ipython",
    "version": 3
   },
   "file_extension": ".py",
   "mimetype": "text/x-python",
   "name": "python",
   "nbconvert_exporter": "python",
   "pygments_lexer": "ipython3",
   "version": "3.12.4"
  }
 },
 "nbformat": 4,
 "nbformat_minor": 5
}
