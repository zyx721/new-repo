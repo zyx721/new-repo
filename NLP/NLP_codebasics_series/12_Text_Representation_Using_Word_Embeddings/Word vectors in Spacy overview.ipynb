{
 "cells": [
  {
   "cell_type": "code",
   "execution_count": 3,
   "id": "9ea78771",
   "metadata": {},
   "outputs": [],
   "source": [
    "import spacy\n",
    "\n",
    "# word vectors occupy lot of space. hence en_core_web_sm model do not have them included. \n",
    "# In order to download\n",
    "# word vectors you need to install large or medium english model. We will install the large one!\n",
    "# make sure you have run \"python -m spacy download en_core_web_lg\" to install large english model\n",
    "nlp = spacy.load(\"en_core_web_lg\")"
   ]
  },
  {
   "cell_type": "code",
   "execution_count": 2,
   "id": "02b7a71e",
   "metadata": {},
   "outputs": [
    {
     "name": "stdout",
     "output_type": "stream",
     "text": [
      "Collecting en-core-web-lg==3.6.0\n",
      "  Downloading https://github.com/explosion/spacy-models/releases/download/en_core_web_lg-3.6.0/en_core_web_lg-3.6.0-py3-none-any.whl (587.7 MB)\n",
      "Requirement already satisfied: spacy<3.7.0,>=3.6.0 in c:\\users\\hf\\anaconda3\\envs\\zyx\\lib\\site-packages (from en-core-web-lg==3.6.0) (3.6.1)\n",
      "Requirement already satisfied: catalogue<2.1.0,>=2.0.6 in c:\\users\\hf\\anaconda3\\envs\\zyx\\lib\\site-packages (from spacy<3.7.0,>=3.6.0->en-core-web-lg==3.6.0) (2.0.10)\n",
      "Requirement already satisfied: murmurhash<1.1.0,>=0.28.0 in c:\\users\\hf\\anaconda3\\envs\\zyx\\lib\\site-packages (from spacy<3.7.0,>=3.6.0->en-core-web-lg==3.6.0) (1.0.5)\n",
      "Requirement already satisfied: setuptools in c:\\users\\hf\\anaconda3\\envs\\zyx\\lib\\site-packages (from spacy<3.7.0,>=3.6.0->en-core-web-lg==3.6.0) (58.0.4)\n",
      "Requirement already satisfied: thinc<8.2.0,>=8.1.8 in c:\\users\\hf\\anaconda3\\envs\\zyx\\lib\\site-packages (from spacy<3.7.0,>=3.6.0->en-core-web-lg==3.6.0) (8.1.12)\n",
      "Requirement already satisfied: srsly<3.0.0,>=2.4.3 in c:\\users\\hf\\anaconda3\\envs\\zyx\\lib\\site-packages (from spacy<3.7.0,>=3.6.0->en-core-web-lg==3.6.0) (2.4.8)\n",
      "Requirement already satisfied: numpy>=1.15.0 in c:\\users\\hf\\anaconda3\\envs\\zyx\\lib\\site-packages (from spacy<3.7.0,>=3.6.0->en-core-web-lg==3.6.0) (1.19.2)\n",
      "Requirement already satisfied: packaging>=20.0 in c:\\users\\hf\\anaconda3\\envs\\zyx\\lib\\site-packages (from spacy<3.7.0,>=3.6.0->en-core-web-lg==3.6.0) (21.3)\n",
      "Requirement already satisfied: pydantic!=1.8,!=1.8.1,<3.0.0,>=1.7.4 in c:\\users\\hf\\anaconda3\\envs\\zyx\\lib\\site-packages (from spacy<3.7.0,>=3.6.0->en-core-web-lg==3.6.0) (1.9.2)\n",
      "Requirement already satisfied: pathy>=0.10.0 in c:\\users\\hf\\anaconda3\\envs\\zyx\\lib\\site-packages (from spacy<3.7.0,>=3.6.0->en-core-web-lg==3.6.0) (0.10.3)\n",
      "Requirement already satisfied: tqdm<5.0.0,>=4.38.0 in c:\\users\\hf\\anaconda3\\envs\\zyx\\lib\\site-packages (from spacy<3.7.0,>=3.6.0->en-core-web-lg==3.6.0) (4.64.1)\n",
      "Requirement already satisfied: jinja2 in c:\\users\\hf\\anaconda3\\envs\\zyx\\lib\\site-packages (from spacy<3.7.0,>=3.6.0->en-core-web-lg==3.6.0) (3.0.3)\n",
      "Requirement already satisfied: spacy-loggers<2.0.0,>=1.0.0 in c:\\users\\hf\\anaconda3\\envs\\zyx\\lib\\site-packages (from spacy<3.7.0,>=3.6.0->en-core-web-lg==3.6.0) (1.0.5)\n",
      "Requirement already satisfied: smart-open<7.0.0,>=5.2.1 in c:\\users\\hf\\anaconda3\\envs\\zyx\\lib\\site-packages (from spacy<3.7.0,>=3.6.0->en-core-web-lg==3.6.0) (6.4.0)\n",
      "Requirement already satisfied: typer<0.10.0,>=0.3.0 in c:\\users\\hf\\anaconda3\\envs\\zyx\\lib\\site-packages (from spacy<3.7.0,>=3.6.0->en-core-web-lg==3.6.0) (0.9.4)\n",
      "Requirement already satisfied: requests<3.0.0,>=2.13.0 in c:\\users\\hf\\anaconda3\\envs\\zyx\\lib\\site-packages (from spacy<3.7.0,>=3.6.0->en-core-web-lg==3.6.0) (2.27.1)\n",
      "Requirement already satisfied: preshed<3.1.0,>=3.0.2 in c:\\users\\hf\\anaconda3\\envs\\zyx\\lib\\site-packages (from spacy<3.7.0,>=3.6.0->en-core-web-lg==3.6.0) (3.0.5)\n",
      "Requirement already satisfied: cymem<2.1.0,>=2.0.2 in c:\\users\\hf\\anaconda3\\envs\\zyx\\lib\\site-packages (from spacy<3.7.0,>=3.6.0->en-core-web-lg==3.6.0) (2.0.5)\n",
      "Requirement already satisfied: typing-extensions<4.5.0,>=3.7.4.1 in c:\\users\\hf\\anaconda3\\envs\\zyx\\lib\\site-packages (from spacy<3.7.0,>=3.6.0->en-core-web-lg==3.6.0) (3.7.4.3)\n",
      "Requirement already satisfied: wasabi<1.2.0,>=0.9.1 in c:\\users\\hf\\anaconda3\\envs\\zyx\\lib\\site-packages (from spacy<3.7.0,>=3.6.0->en-core-web-lg==3.6.0) (1.1.3)\n",
      "Requirement already satisfied: spacy-legacy<3.1.0,>=3.0.11 in c:\\users\\hf\\anaconda3\\envs\\zyx\\lib\\site-packages (from spacy<3.7.0,>=3.6.0->en-core-web-lg==3.6.0) (3.0.12)\n",
      "Requirement already satisfied: langcodes<4.0.0,>=3.2.0 in c:\\users\\hf\\anaconda3\\envs\\zyx\\lib\\site-packages (from spacy<3.7.0,>=3.6.0->en-core-web-lg==3.6.0) (3.3.0)\n",
      "Requirement already satisfied: zipp>=0.5 in c:\\users\\hf\\anaconda3\\envs\\zyx\\lib\\site-packages (from catalogue<2.1.0,>=2.0.6->spacy<3.7.0,>=3.6.0->en-core-web-lg==3.6.0) (3.6.0)\n",
      "Requirement already satisfied: pyparsing!=3.0.5,>=2.0.2 in c:\\users\\hf\\anaconda3\\envs\\zyx\\lib\\site-packages (from packaging>=20.0->spacy<3.7.0,>=3.6.0->en-core-web-lg==3.6.0) (3.0.4)\n",
      "Requirement already satisfied: dataclasses<1.0,>=0.6 in c:\\users\\hf\\anaconda3\\envs\\zyx\\lib\\site-packages (from pathy>=0.10.0->spacy<3.7.0,>=3.6.0->en-core-web-lg==3.6.0) (0.8)\n",
      "Requirement already satisfied: idna<4,>=2.5 in c:\\users\\hf\\anaconda3\\envs\\zyx\\lib\\site-packages (from requests<3.0.0,>=2.13.0->spacy<3.7.0,>=3.6.0->en-core-web-lg==3.6.0) (3.3)\n",
      "Requirement already satisfied: certifi>=2017.4.17 in c:\\users\\hf\\anaconda3\\envs\\zyx\\lib\\site-packages (from requests<3.0.0,>=2.13.0->spacy<3.7.0,>=3.6.0->en-core-web-lg==3.6.0) (2021.5.30)\n",
      "Requirement already satisfied: charset-normalizer~=2.0.0 in c:\\users\\hf\\anaconda3\\envs\\zyx\\lib\\site-packages (from requests<3.0.0,>=2.13.0->spacy<3.7.0,>=3.6.0->en-core-web-lg==3.6.0) (2.0.4)\n",
      "Requirement already satisfied: urllib3<1.27,>=1.21.1 in c:\\users\\hf\\anaconda3\\envs\\zyx\\lib\\site-packages (from requests<3.0.0,>=2.13.0->spacy<3.7.0,>=3.6.0->en-core-web-lg==3.6.0) (1.26.8)\n",
      "Requirement already satisfied: blis<0.8.0,>=0.7.8 in c:\\users\\hf\\anaconda3\\envs\\zyx\\lib\\site-packages (from thinc<8.2.0,>=8.1.8->spacy<3.7.0,>=3.6.0->en-core-web-lg==3.6.0) (0.7.11)\n",
      "Requirement already satisfied: contextvars<3,>=2.4 in c:\\users\\hf\\anaconda3\\envs\\zyx\\lib\\site-packages (from thinc<8.2.0,>=8.1.8->spacy<3.7.0,>=3.6.0->en-core-web-lg==3.6.0) (2.4)\n",
      "Requirement already satisfied: confection<1.0.0,>=0.0.1 in c:\\users\\hf\\anaconda3\\envs\\zyx\\lib\\site-packages (from thinc<8.2.0,>=8.1.8->spacy<3.7.0,>=3.6.0->en-core-web-lg==3.6.0) (0.1.5)\n",
      "Requirement already satisfied: immutables>=0.9 in c:\\users\\hf\\anaconda3\\envs\\zyx\\lib\\site-packages (from contextvars<3,>=2.4->thinc<8.2.0,>=8.1.8->spacy<3.7.0,>=3.6.0->en-core-web-lg==3.6.0) (0.16)\n",
      "Requirement already satisfied: colorama in c:\\users\\hf\\anaconda3\\envs\\zyx\\lib\\site-packages (from tqdm<5.0.0,>=4.38.0->spacy<3.7.0,>=3.6.0->en-core-web-lg==3.6.0) (0.4.4)\n",
      "Requirement already satisfied: importlib-resources in c:\\users\\hf\\anaconda3\\envs\\zyx\\lib\\site-packages (from tqdm<5.0.0,>=4.38.0->spacy<3.7.0,>=3.6.0->en-core-web-lg==3.6.0) (5.4.0)\n",
      "Requirement already satisfied: click<9.0.0,>=7.1.1 in c:\\users\\hf\\anaconda3\\envs\\zyx\\lib\\site-packages (from typer<0.10.0,>=0.3.0->spacy<3.7.0,>=3.6.0->en-core-web-lg==3.6.0) (8.0.3)\n",
      "Requirement already satisfied: importlib-metadata in c:\\users\\hf\\anaconda3\\envs\\zyx\\lib\\site-packages (from click<9.0.0,>=7.1.1->typer<0.10.0,>=0.3.0->spacy<3.7.0,>=3.6.0->en-core-web-lg==3.6.0) (4.8.1)\n",
      "Requirement already satisfied: MarkupSafe>=2.0 in c:\\users\\hf\\anaconda3\\envs\\zyx\\lib\\site-packages (from jinja2->spacy<3.7.0,>=3.6.0->en-core-web-lg==3.6.0) (2.0.1)\n",
      "Installing collected packages: en-core-web-lg\n",
      "Successfully installed en-core-web-lg-3.6.0\n",
      "[+] Download and installation successful\n",
      "You can now load the package via spacy.load('en_core_web_lg')\n"
     ]
    }
   ],
   "source": [
    "!python -m spacy download en_core_web_lg\n"
   ]
  },
  {
   "cell_type": "code",
   "execution_count": 4,
   "id": "228209b1",
   "metadata": {},
   "outputs": [
    {
     "name": "stdout",
     "output_type": "stream",
     "text": [
      "dog Vector: True OOV: False\n",
      "cat Vector: True OOV: False\n",
      "banana Vector: True OOV: False\n",
      "kem Vector: False OOV: True\n"
     ]
    }
   ],
   "source": [
    "doc = nlp(\"dog cat banana kem\")\n",
    "\n",
    "for token in doc:\n",
    "    print(token.text, \"Vector:\", token.has_vector, \"OOV:\", token.is_oov)"
   ]
  },
  {
   "cell_type": "code",
   "execution_count": 5,
   "id": "63a4e665",
   "metadata": {},
   "outputs": [
    {
     "data": {
      "text/plain": [
       "(300,)"
      ]
     },
     "execution_count": 5,
     "metadata": {},
     "output_type": "execute_result"
    }
   ],
   "source": [
    "base_token = nlp(\"bread\")\n",
    "base_token.vector.shape"
   ]
  },
  {
   "cell_type": "code",
   "execution_count": 6,
   "id": "2c437767",
   "metadata": {},
   "outputs": [
    {
     "name": "stdout",
     "output_type": "stream",
     "text": [
      "bread <-> bread: 0.9999999744752309\n",
      "sandwich <-> bread: 0.6341067010130894\n",
      "burger <-> bread: 0.47520687769584247\n",
      "car <-> bread: 0.06451532596945217\n",
      "tiger <-> bread: 0.04764611272488976\n",
      "human <-> bread: 0.2151154210812192\n",
      "wheat <-> bread: 0.615036141030184\n"
     ]
    }
   ],
   "source": [
    "doc = nlp(\"bread sandwich burger car tiger human wheat\")\n",
    "\n",
    "for token in doc:\n",
    "    print(f\"{token.text} <-> {base_token.text}:\", token.similarity(base_token))"
   ]
  },
  {
   "cell_type": "code",
   "execution_count": 7,
   "id": "92f148ca",
   "metadata": {},
   "outputs": [],
   "source": [
    "def print_similarity(base_word, words_to_compare):\n",
    "    base_token = nlp(base_word)\n",
    "    doc = nlp(words_to_compare)\n",
    "    for token in doc:\n",
    "        print(f\"{token.text} <-> {base_token.text}: \", token.similarity(base_token))"
   ]
  },
  {
   "cell_type": "code",
   "execution_count": 18,
   "id": "7a5a3ad4",
   "metadata": {},
   "outputs": [
    {
     "name": "stdout",
     "output_type": "stream",
     "text": [
      "Language <-> communication:  0.49262584751013627\n",
      "is <-> communication:  0.2807799136363269\n",
      "a <-> communication:  0.28392002278808687\n",
      "bridge <-> communication:  0.28055051554804294\n",
      "that <-> communication:  0.5221810231689782\n",
      "connects <-> communication:  0.542629176122194\n",
      "humans <-> communication:  0.37781693676233474\n",
      "and <-> communication:  0.6639839397288615\n",
      "enhances <-> communication:  0.5216576960211894\n",
      "understanding <-> communication:  0.747913369375598\n",
      ". <-> communication:  0.29203578065530134\n"
     ]
    }
   ],
   "source": [
    "print_similarity(\"communication\", \"Language is a bridge that connects humans and enhances understanding.\")\n"
   ]
  },
  {
   "cell_type": "code",
   "execution_count": 9,
   "id": "f84baa1a",
   "metadata": {},
   "outputs": [],
   "source": [
    "king = nlp.vocab[\"king\"].vector\n",
    "man = nlp.vocab[\"man\"].vector\n",
    "woman = nlp.vocab[\"woman\"].vector\n",
    "queen = nlp.vocab[\"queen\"].vector\n",
    "\n",
    "result = king - man + woman"
   ]
  },
  {
   "cell_type": "code",
   "execution_count": 11,
   "id": "3a39a2e3",
   "metadata": {},
   "outputs": [
    {
     "data": {
      "text/plain": [
       "array([[0.6178015]], dtype=float32)"
      ]
     },
     "execution_count": 11,
     "metadata": {},
     "output_type": "execute_result"
    }
   ],
   "source": [
    "from sklearn.metrics.pairwise import cosine_similarity\n",
    "\n",
    "cosine_similarity([result], [queen])"
   ]
  },
  {
   "cell_type": "code",
   "execution_count": null,
   "id": "09eb6284",
   "metadata": {},
   "outputs": [],
   "source": []
  }
 ],
 "metadata": {
  "kernelspec": {
   "display_name": "Python 3",
   "language": "python",
   "name": "python3"
  },
  "language_info": {
   "codemirror_mode": {
    "name": "ipython",
    "version": 3
   },
   "file_extension": ".py",
   "mimetype": "text/x-python",
   "name": "python",
   "nbconvert_exporter": "python",
   "pygments_lexer": "ipython3",
   "version": "3.6.13"
  }
 },
 "nbformat": 4,
 "nbformat_minor": 5
}
