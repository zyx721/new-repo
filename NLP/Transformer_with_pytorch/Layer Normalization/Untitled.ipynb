{
 "cells": [
  {
   "cell_type": "code",
   "execution_count": 1,
   "id": "a388f12b-208d-4160-8ed1-a77d00ec1e08",
   "metadata": {},
   "outputs": [
    {
     "data": {
      "text/plain": [
       "torch.Size([2, 1, 3])"
      ]
     },
     "execution_count": 1,
     "metadata": {},
     "output_type": "execute_result"
    }
   ],
   "source": [
    "\n",
    "import torch\n",
    "from torch import nn\n",
    "     \n",
    "\n",
    "inputs = torch.Tensor([[[0.2, 0.1, 0.3], [0.5, 0.1, 0.1]]])\n",
    "B, S, E = inputs.size()\n",
    "inputs = inputs.reshape(S, B, E)\n",
    "inputs.size()"
   ]
  },
  {
   "cell_type": "code",
   "execution_count": 2,
   "id": "d58dc430-1477-492a-8773-ffe8b41b84f0",
   "metadata": {},
   "outputs": [
    {
     "data": {
      "text/plain": [
       "tensor([[[0.2000, 0.1000, 0.3000]],\n",
       "\n",
       "        [[0.5000, 0.1000, 0.1000]]])"
      ]
     },
     "execution_count": 2,
     "metadata": {},
     "output_type": "execute_result"
    }
   ],
   "source": [
    "inputs"
   ]
  },
  {
   "cell_type": "code",
   "execution_count": 3,
   "id": "11886b2a-38cf-43c8-864b-c7e5681a8c6a",
   "metadata": {},
   "outputs": [],
   "source": [
    "parameter_shape = inputs.size()[-2:]\n",
    "gamma = nn.Parameter(torch.ones(parameter_shape))\n",
    "beta =  nn.Parameter(torch.zeros(parameter_shape))"
   ]
  },
  {
   "cell_type": "code",
   "execution_count": 5,
   "id": "3fc14a25-832c-4dd6-ad6f-4dd687973f93",
   "metadata": {},
   "outputs": [
    {
     "data": {
      "text/plain": [
       "Parameter containing:\n",
       "tensor([[0., 0., 0.]], requires_grad=True)"
      ]
     },
     "execution_count": 5,
     "metadata": {},
     "output_type": "execute_result"
    }
   ],
   "source": [
    "beta"
   ]
  },
  {
   "cell_type": "code",
   "execution_count": 6,
   "id": "c415c7c6-5952-4eb1-ae50-65389550a43e",
   "metadata": {},
   "outputs": [],
   "source": [
    "dims = [-(i + 1) for i in range(len(parameter_shape))]\n"
   ]
  },
  {
   "cell_type": "code",
   "execution_count": 7,
   "id": "a1c6985b-c756-4a9b-9080-7d7f073d4820",
   "metadata": {},
   "outputs": [
    {
     "data": {
      "text/plain": [
       "torch.Size([2, 1, 1])"
      ]
     },
     "execution_count": 7,
     "metadata": {},
     "output_type": "execute_result"
    }
   ],
   "source": [
    "\n",
    "mean = inputs.mean(dim=dims, keepdim=True)\n",
    "mean.size()"
   ]
  },
  {
   "cell_type": "code",
   "execution_count": 8,
   "id": "f4ce90cd-2033-428a-9aed-6c11d3ca973a",
   "metadata": {},
   "outputs": [
    {
     "data": {
      "text/plain": [
       "tensor([[[0.0817]],\n",
       "\n",
       "        [[0.1886]]])"
      ]
     },
     "execution_count": 8,
     "metadata": {},
     "output_type": "execute_result"
    }
   ],
   "source": [
    "var = ((inputs - mean) ** 2).mean(dim=dims, keepdim=True)\n",
    "epsilon = 1e-5\n",
    "std = (var + epsilon).sqrt()\n",
    "std"
   ]
  },
  {
   "cell_type": "code",
   "execution_count": 9,
   "id": "706be934-1976-4541-94c4-d10655e014cf",
   "metadata": {},
   "outputs": [
    {
     "data": {
      "text/plain": [
       "tensor([[[ 0.0000, -1.2238,  1.2238]],\n",
       "\n",
       "        [[ 1.4140, -0.7070, -0.7070]]])"
      ]
     },
     "execution_count": 9,
     "metadata": {},
     "output_type": "execute_result"
    }
   ],
   "source": [
    "\n",
    "y = (inputs - mean) / std\n",
    "y"
   ]
  },
  {
   "cell_type": "code",
   "execution_count": 10,
   "id": "3d450056-4c6a-410a-ad51-02c98a5074d4",
   "metadata": {},
   "outputs": [],
   "source": [
    "out = gamma * y + beta\n"
   ]
  },
  {
   "cell_type": "code",
   "execution_count": 11,
   "id": "1673088c-1055-4c5e-8bc9-2bc7ab171ee8",
   "metadata": {},
   "outputs": [
    {
     "name": "stdout",
     "output_type": "stream",
     "text": [
      "input \n",
      " (torch.Size([5, 3, 8])) = \n",
      " tensor([[[ 0.6469,  1.3656,  1.3446,  0.3038, -0.5741,  2.0021, -0.2257,\n",
      "           0.1254],\n",
      "         [-0.2555, -0.3813,  1.4523,  0.7855,  0.6054,  0.3587, -1.0080,\n",
      "           0.2108],\n",
      "         [-0.1996, -0.9304,  0.8518,  0.7144, -0.6996, -0.1698, -0.4499,\n",
      "          -0.1009]],\n",
      "\n",
      "        [[-0.1454,  0.4202,  0.7579,  0.1820,  1.9422,  0.2353, -0.6983,\n",
      "           0.3932],\n",
      "         [ 0.4795,  0.1138,  0.6843, -0.9968, -0.8469,  0.8386, -0.6900,\n",
      "           0.5337],\n",
      "         [ 1.6088, -0.2448,  0.2011, -0.4285,  0.4154, -0.6001, -0.1717,\n",
      "           0.2716]],\n",
      "\n",
      "        [[-0.4426,  0.4266,  1.6828, -0.0876,  0.2802, -0.8874,  0.3211,\n",
      "          -0.4766],\n",
      "         [ 1.7027, -0.0258,  0.8888,  0.6342, -0.2795, -0.6697, -0.1828,\n",
      "           1.0442],\n",
      "         [ 1.2084, -0.6941,  1.0817, -0.1604,  0.2661, -0.4435,  0.7868,\n",
      "          -0.0302]],\n",
      "\n",
      "        [[ 1.0988, -0.0940,  0.4360, -0.6760,  0.1892,  0.2815, -0.8643,\n",
      "          -1.5505],\n",
      "         [ 0.7095, -0.6921,  0.3737,  0.3820,  0.8484,  1.4535, -1.2968,\n",
      "          -0.4122],\n",
      "         [ 0.0924,  0.4109, -1.3051, -0.2693, -0.0132,  1.1108, -0.5459,\n",
      "          -0.4443]],\n",
      "\n",
      "        [[-0.4459,  1.4108,  1.3543, -1.9286, -0.6321,  0.3845, -1.9755,\n",
      "           0.2984],\n",
      "         [-0.7072,  1.6685,  1.4817,  0.9044,  1.7040, -1.1124,  0.3645,\n",
      "           0.0919],\n",
      "         [-0.0369,  1.0678, -0.3691, -0.4293, -0.1821,  0.3287,  0.4951,\n",
      "           0.5604]]])\n"
     ]
    }
   ],
   "source": [
    "\n",
    "import torch\n",
    "from torch import nn\n",
    "\n",
    "class LayerNormalization():\n",
    "    def __init__(self, parameters_shape, eps=1e-5):\n",
    "        self.parameters_shape=parameters_shape\n",
    "        self.eps=eps\n",
    "        self.gamma = nn.Parameter(torch.ones(parameters_shape))\n",
    "        self.beta =  nn.Parameter(torch.zeros(parameters_shape))\n",
    "\n",
    "    def forward(self, input):\n",
    "        dims = [-(i + 1) for i in range(len(self.parameters_shape))]\n",
    "        mean = inputs.mean(dim=dims, keepdim=True)\n",
    "        print(f\"Mean \\n ({mean.size()}): \\n {mean}\")\n",
    "        var = ((inputs - mean) ** 2).mean(dim=dims, keepdim=True)\n",
    "        std = (var + self.eps).sqrt()\n",
    "        print(f\"Standard Deviation \\n ({std.size()}): \\n {std}\")\n",
    "        y = (inputs - mean) / std\n",
    "        print(f\"y \\n ({y.size()}) = \\n {y}\")\n",
    "        out = self.gamma * y  + self.beta\n",
    "        print(f\"out \\n ({out.size()}) = \\n {out}\")\n",
    "        return out\n",
    "     \n",
    "\n",
    "batch_size = 3\n",
    "sentence_length = 5\n",
    "embedding_dim = 8 \n",
    "inputs = torch.randn(sentence_length, batch_size, embedding_dim)\n",
    "\n",
    "print(f\"input \\n ({inputs.size()}) = \\n {inputs}\")"
   ]
  },
  {
   "cell_type": "code",
   "execution_count": 13,
   "id": "36fa8176-fbac-45d1-828d-8cc51bee5f7d",
   "metadata": {},
   "outputs": [
    {
     "name": "stdout",
     "output_type": "stream",
     "text": [
      "input \n",
      " (torch.Size([2, 3, 3])) = \n",
      " tensor([[[-2.3107, -0.4618,  1.0862],\n",
      "         [ 1.1488, -0.1019,  0.7588],\n",
      "         [ 1.1869, -1.7824,  0.2725]],\n",
      "\n",
      "        [[ 0.9561,  0.8370, -0.9578],\n",
      "         [ 0.4475, -0.1893,  1.0462],\n",
      "         [ 1.6932,  0.6806,  0.7444]]])\n"
     ]
    }
   ],
   "source": [
    "\n",
    "batch_size = 3\n",
    "sentence_length = 2\n",
    "embedding_dim = 3\n",
    "inputs = torch.randn(sentence_length, batch_size, embedding_dim)\n",
    "\n",
    "print(f\"input \\n ({inputs.size()}) = \\n {inputs}\")"
   ]
  },
  {
   "cell_type": "code",
   "execution_count": null,
   "id": "ab05593d-ac8a-4241-bc69-f40bdbf222ea",
   "metadata": {},
   "outputs": [],
   "source": []
  }
 ],
 "metadata": {
  "kernelspec": {
   "display_name": "Python 3 (ipykernel)",
   "language": "python",
   "name": "python3"
  },
  "language_info": {
   "codemirror_mode": {
    "name": "ipython",
    "version": 3
   },
   "file_extension": ".py",
   "mimetype": "text/x-python",
   "name": "python",
   "nbconvert_exporter": "python",
   "pygments_lexer": "ipython3",
   "version": "3.12.7"
  }
 },
 "nbformat": 4,
 "nbformat_minor": 5
}
