{
 "cells": [
  {
   "cell_type": "code",
   "execution_count": 8,
   "id": "9a3907f2-0196-4235-b2d7-3267aa9e62b2",
   "metadata": {},
   "outputs": [],
   "source": [
    "\n",
    "import numpy as np\n",
    "import math\n",
    "\n",
    "L, d_k, d_v = 4, 8, 8\n",
    "q = np.random.randn(L, d_k)\n",
    "k = np.random.randn(L, d_k)\n",
    "v = np.random.randn(L, d_v)"
   ]
  },
  {
   "cell_type": "code",
   "execution_count": 9,
   "id": "2a37f824-77f3-4ff6-b7ef-d4a10e24f573",
   "metadata": {},
   "outputs": [
    {
     "name": "stdout",
     "output_type": "stream",
     "text": [
      "Q\n",
      " [[ 1.06265353 -1.04154709  0.31903798 -1.97891434  0.37866731 -0.49480558\n",
      "   0.14147369 -0.38059492]\n",
      " [ 0.15804184 -0.53026353  0.368618   -1.09082603  0.56294831  1.03452456\n",
      "  -2.03631891  1.41276778]\n",
      " [ 1.09129202  0.52080012 -0.24924261 -0.45375836 -0.18950295 -1.42962098\n",
      "  -0.5359392   0.44610144]\n",
      " [ 0.4854946  -0.0640484  -2.53788549  0.24900125 -1.47544721 -1.2312115\n",
      "   1.98112263  0.08341751]]\n",
      "K\n",
      " [[-1.20165243e+00  6.92417656e-01 -5.66531887e-01  8.93579938e-01\n",
      "   7.71733390e-01 -1.12475294e+00 -1.20605494e+00 -3.53952221e-01]\n",
      " [ 1.70565507e+00  1.32475072e+00 -1.16204025e-03 -2.04520927e-01\n",
      "  -7.20643293e-02  2.80607587e-01  1.41351200e+00  8.31586155e-01]\n",
      " [-9.10301502e-01  6.72669461e-01 -1.09046468e+00  7.36874043e-01\n",
      "   1.76078158e+00 -8.96642804e-01  2.70217759e-01 -4.76436881e-01]\n",
      " [ 5.51093949e-01 -2.49503709e-01 -1.55999448e+00 -2.30084179e-01\n",
      "  -3.26128911e-01 -3.16256719e-01  1.68074362e+00 -1.17588938e+00]]\n",
      "V\n",
      " [[-0.01790648 -0.64568823  1.03114358 -2.4772107  -1.01925184 -0.11891081\n",
      "   0.38383324 -0.08683348]\n",
      " [ 1.43406092 -0.50340668  1.33375338  0.28722584  0.58632872  0.98854884\n",
      "  -0.05079046  0.37535629]\n",
      " [ 2.04368144  1.12598057  0.78236453 -0.43916973 -1.25681833 -0.31997016\n",
      "   0.56543237 -1.58263789]\n",
      " [-1.66256728 -0.71142073 -0.25285097 -0.79631208  1.29690423 -0.47293597\n",
      "  -2.06190465  1.28541698]]\n"
     ]
    }
   ],
   "source": [
    "print(\"Q\\n\", q)\n",
    "print(\"K\\n\", k)\n",
    "print(\"V\\n\", v)"
   ]
  },
  {
   "cell_type": "code",
   "execution_count": 10,
   "id": "43ece939-0d34-495b-b9da-3909844b18c5",
   "metadata": {},
   "outputs": [
    {
     "data": {
      "text/plain": [
       "array([[-3.13433751,  0.55443147, -2.14408983,  1.52142095],\n",
       "       [-0.51392765, -1.66402986, -2.8660383 , -5.69921933],\n",
       "       [ 0.73519018,  1.87030002, -0.11482433,  0.05326988],\n",
       "       [-1.1401601 ,  3.3258106 ,  1.46753517,  8.28756391]])"
      ]
     },
     "execution_count": 10,
     "metadata": {},
     "output_type": "execute_result"
    }
   ],
   "source": [
    "np.matmul(q, k.T)\n"
   ]
  },
  {
   "cell_type": "code",
   "execution_count": 11,
   "id": "d9347dbc-c2d7-4045-a423-43b6eea59191",
   "metadata": {},
   "outputs": [
    {
     "data": {
      "text/plain": [
       "0.9998819693276478"
      ]
     },
     "execution_count": 11,
     "metadata": {},
     "output_type": "execute_result"
    }
   ],
   "source": [
    "new = np.random.randn(10000000, d_v)\n",
    "new.var()"
   ]
  },
  {
   "cell_type": "code",
   "execution_count": 12,
   "id": "ce41a61c-d736-4291-9a20-d205a2c427a7",
   "metadata": {},
   "outputs": [
    {
     "data": {
      "text/plain": [
       "(1.0528345952551859, 0.8863911357060673, 9.250403568268382)"
      ]
     },
     "execution_count": 12,
     "metadata": {},
     "output_type": "execute_result"
    }
   ],
   "source": [
    "q.var(), k.var(), np.matmul(q, k.T).var()\n"
   ]
  },
  {
   "cell_type": "code",
   "execution_count": 13,
   "id": "55ecf94a-6db1-4f91-bab4-47ba99a3b4de",
   "metadata": {},
   "outputs": [
    {
     "data": {
      "text/plain": [
       "(1.0528345952551859, 0.8863911357060673, 1.1563004460335478)"
      ]
     },
     "execution_count": 13,
     "metadata": {},
     "output_type": "execute_result"
    }
   ],
   "source": [
    "scaled = np.matmul(q, k.T) / math.sqrt(d_k)\n",
    "q.var(), k.var(), scaled.var()"
   ]
  },
  {
   "cell_type": "code",
   "execution_count": 18,
   "id": "c81be717-a123-486a-b6d5-6d587dc19b69",
   "metadata": {},
   "outputs": [
    {
     "data": {
      "text/plain": [
       "array([[-1.10815565,  0.19602113, -0.75805023,  0.53790353],\n",
       "       [-0.18170086, -0.5883234 , -1.01329756, -2.01497832],\n",
       "       [ 0.25992898,  0.66125092, -0.04059653,  0.01883375],\n",
       "       [-0.40310747,  1.17585162,  0.51885204,  2.93009632]])"
      ]
     },
     "execution_count": 18,
     "metadata": {},
     "output_type": "execute_result"
    }
   ],
   "source": [
    "scaled"
   ]
  },
  {
   "cell_type": "code",
   "execution_count": 16,
   "id": "5a73c60f-4841-419a-85ea-726710dcd62d",
   "metadata": {},
   "outputs": [
    {
     "data": {
      "text/plain": [
       "array([[1., 0., 0., 0.],\n",
       "       [1., 1., 0., 0.],\n",
       "       [1., 1., 1., 0.],\n",
       "       [1., 1., 1., 1.]])"
      ]
     },
     "execution_count": 16,
     "metadata": {},
     "output_type": "execute_result"
    }
   ],
   "source": [
    "\n",
    "mask = np.tril(np.ones( (L, L) ))\n",
    "mask"
   ]
  },
  {
   "cell_type": "code",
   "execution_count": 17,
   "id": "1dc8b3f7-e00e-46c7-8773-49ba1d1e27fc",
   "metadata": {},
   "outputs": [
    {
     "data": {
      "text/plain": [
       "array([[-0.10815565,  0.19602113, -0.75805023,  0.53790353],\n",
       "       [ 0.81829914,  0.4116766 , -1.01329756, -2.01497832],\n",
       "       [ 1.25992898,  1.66125092,  0.95940347,  0.01883375],\n",
       "       [ 0.59689253,  2.17585162,  1.51885204,  3.93009632]])"
      ]
     },
     "execution_count": 17,
     "metadata": {},
     "output_type": "execute_result"
    }
   ],
   "source": [
    "scaled + mask"
   ]
  },
  {
   "cell_type": "code",
   "execution_count": 19,
   "id": "e8b4ceb3-246e-48fa-9ffc-844f36315f7e",
   "metadata": {},
   "outputs": [],
   "source": [
    "\n",
    "mask[mask == 0] = -np.infty\n",
    "mask[mask == 1] = 0"
   ]
  },
  {
   "cell_type": "code",
   "execution_count": 20,
   "id": "828b98b7-a95a-4890-93c4-943207b215e0",
   "metadata": {},
   "outputs": [
    {
     "data": {
      "text/plain": [
       "array([[-1.10815565,        -inf,        -inf,        -inf],\n",
       "       [-0.18170086, -0.5883234 ,        -inf,        -inf],\n",
       "       [ 0.25992898,  0.66125092, -0.04059653,        -inf],\n",
       "       [-0.40310747,  1.17585162,  0.51885204,  2.93009632]])"
      ]
     },
     "execution_count": 20,
     "metadata": {},
     "output_type": "execute_result"
    }
   ],
   "source": [
    "scaled + mask"
   ]
  },
  {
   "cell_type": "code",
   "execution_count": 25,
   "id": "b8e31eff-451d-4ade-8e10-2c122ab5a4bf",
   "metadata": {},
   "outputs": [],
   "source": [
    "def softmax(x):\n",
    "  return (np.exp(x).T / np.sum(np.exp(x), axis=-1)).T\n",
    "     \n",
    "\n",
    "attention = softmax(scaled + mask)"
   ]
  },
  {
   "cell_type": "code",
   "execution_count": 26,
   "id": "8215721a-de9a-4bc7-b25c-fc24e23c1d30",
   "metadata": {},
   "outputs": [
    {
     "data": {
      "text/plain": [
       "array([[1.        , 0.        , 0.        , 0.        ],\n",
       "       [0.60027775, 0.39972225, 0.        , 0.        ],\n",
       "       [0.30919288, 0.46187174, 0.22893538, 0.        ],\n",
       "       [0.02747848, 0.13326803, 0.06908674, 0.77016675]])"
      ]
     },
     "execution_count": 26,
     "metadata": {},
     "output_type": "execute_result"
    }
   ],
   "source": [
    "attention"
   ]
  },
  {
   "cell_type": "code",
   "execution_count": 27,
   "id": "a8ecca89-8b0b-40fe-b2c1-ac099c677807",
   "metadata": {},
   "outputs": [
    {
     "data": {
      "text/plain": [
       "array([[-0.01790648, -0.64568823,  1.03114358, -2.4772107 , -1.01925184,\n",
       "        -0.11891081,  0.38383324, -0.08683348],\n",
       "       [ 0.5624772 , -0.58881513,  1.15210345, -1.37220391, -0.37746556,\n",
       "         0.32376545,  0.21010447,  0.09791406],\n",
       "       [ 1.12468664, -0.17437473,  1.11395617, -0.73381591, -0.33206693,\n",
       "         0.34656391,  0.2246673 , -0.21580364],\n",
       "       [-0.94864034, -0.55495282,  0.06539455, -0.67342586,  0.96213442,\n",
       "        -0.25787079, -1.54516812,  0.92828307]])"
      ]
     },
     "execution_count": 27,
     "metadata": {},
     "output_type": "execute_result"
    }
   ],
   "source": [
    "\n",
    "new_v = np.matmul(attention, v)\n",
    "new_v"
   ]
  },
  {
   "cell_type": "code",
   "execution_count": 28,
   "id": "13e2563a-27ee-46ed-9421-db70eab7ab18",
   "metadata": {},
   "outputs": [
    {
     "name": "stdout",
     "output_type": "stream",
     "text": [
      "Q\n",
      " [[ 1.06265353 -1.04154709  0.31903798 -1.97891434  0.37866731 -0.49480558\n",
      "   0.14147369 -0.38059492]\n",
      " [ 0.15804184 -0.53026353  0.368618   -1.09082603  0.56294831  1.03452456\n",
      "  -2.03631891  1.41276778]\n",
      " [ 1.09129202  0.52080012 -0.24924261 -0.45375836 -0.18950295 -1.42962098\n",
      "  -0.5359392   0.44610144]\n",
      " [ 0.4854946  -0.0640484  -2.53788549  0.24900125 -1.47544721 -1.2312115\n",
      "   1.98112263  0.08341751]]\n",
      "K\n",
      " [[-1.20165243e+00  6.92417656e-01 -5.66531887e-01  8.93579938e-01\n",
      "   7.71733390e-01 -1.12475294e+00 -1.20605494e+00 -3.53952221e-01]\n",
      " [ 1.70565507e+00  1.32475072e+00 -1.16204025e-03 -2.04520927e-01\n",
      "  -7.20643293e-02  2.80607587e-01  1.41351200e+00  8.31586155e-01]\n",
      " [-9.10301502e-01  6.72669461e-01 -1.09046468e+00  7.36874043e-01\n",
      "   1.76078158e+00 -8.96642804e-01  2.70217759e-01 -4.76436881e-01]\n",
      " [ 5.51093949e-01 -2.49503709e-01 -1.55999448e+00 -2.30084179e-01\n",
      "  -3.26128911e-01 -3.16256719e-01  1.68074362e+00 -1.17588938e+00]]\n",
      "V\n",
      " [[-0.01790648 -0.64568823  1.03114358 -2.4772107  -1.01925184 -0.11891081\n",
      "   0.38383324 -0.08683348]\n",
      " [ 1.43406092 -0.50340668  1.33375338  0.28722584  0.58632872  0.98854884\n",
      "  -0.05079046  0.37535629]\n",
      " [ 2.04368144  1.12598057  0.78236453 -0.43916973 -1.25681833 -0.31997016\n",
      "   0.56543237 -1.58263789]\n",
      " [-1.66256728 -0.71142073 -0.25285097 -0.79631208  1.29690423 -0.47293597\n",
      "  -2.06190465  1.28541698]]\n",
      "New V\n",
      " [[-0.01790648 -0.64568823  1.03114358 -2.4772107  -1.01925184 -0.11891081\n",
      "   0.38383324 -0.08683348]\n",
      " [ 0.5624772  -0.58881513  1.15210345 -1.37220391 -0.37746556  0.32376545\n",
      "   0.21010447  0.09791406]\n",
      " [ 1.12468664 -0.17437473  1.11395617 -0.73381591 -0.33206693  0.34656391\n",
      "   0.2246673  -0.21580364]\n",
      " [-0.94864034 -0.55495282  0.06539455 -0.67342586  0.96213442 -0.25787079\n",
      "  -1.54516812  0.92828307]]\n",
      "Attention\n",
      " [[1.         0.         0.         0.        ]\n",
      " [0.60027775 0.39972225 0.         0.        ]\n",
      " [0.30919288 0.46187174 0.22893538 0.        ]\n",
      " [0.02747848 0.13326803 0.06908674 0.77016675]]\n"
     ]
    }
   ],
   "source": [
    "def softmax(x):\n",
    "  return (np.exp(x).T / np.sum(np.exp(x), axis=-1)).T\n",
    "\n",
    "def scaled_dot_product_attention(q, k, v, mask=None):\n",
    "  d_k = q.shape[-1]\n",
    "  scaled = np.matmul(q, k.T) / math.sqrt(d_k)\n",
    "  if mask is not None:\n",
    "    scaled = scaled + mask\n",
    "  attention = softmax(scaled)\n",
    "  out = np.matmul(attention, v)\n",
    "  return out, attention\n",
    "     \n",
    "\n",
    "values, attention = scaled_dot_product_attention(q, k, v, mask=mask)\n",
    "print(\"Q\\n\", q)\n",
    "print(\"K\\n\", k)\n",
    "print(\"V\\n\", v)\n",
    "print(\"New V\\n\", values)\n",
    "print(\"Attention\\n\", attention)"
   ]
  },
  {
   "cell_type": "code",
   "execution_count": null,
   "id": "382073c2-712d-4db9-9296-c3dfa6690cb5",
   "metadata": {},
   "outputs": [],
   "source": []
  }
 ],
 "metadata": {
  "kernelspec": {
   "display_name": "Python 3 (ipykernel)",
   "language": "python",
   "name": "python3"
  },
  "language_info": {
   "codemirror_mode": {
    "name": "ipython",
    "version": 3
   },
   "file_extension": ".py",
   "mimetype": "text/x-python",
   "name": "python",
   "nbconvert_exporter": "python",
   "pygments_lexer": "ipython3",
   "version": "3.12.7"
  }
 },
 "nbformat": 4,
 "nbformat_minor": 5
}
